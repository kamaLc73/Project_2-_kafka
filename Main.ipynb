{
 "cells": [
  {
   "cell_type": "markdown",
   "metadata": {},
   "source": [
    "# Producer :"
   ]
  },
  {
   "cell_type": "code",
   "execution_count": null,
   "metadata": {},
   "outputs": [
    {
     "name": "stdout",
     "output_type": "stream",
     "text": [
      "File motorbikes.mp4 sent successfully to topic files_topic\n"
     ]
    }
   ],
   "source": [
    "from confluent_kafka import Consumer\n",
    "\n",
    "# Configuration du Consumer\n",
    "conf = {\n",
    "    'bootstrap.servers': 'localhost:9092',\n",
    "    'group.id': 'file_group',\n",
    "    'auto.offset.reset': 'earliest',\n",
    "}\n",
    "consumer = Consumer(conf)\n",
    "\n",
    "# Souscription au topic\n",
    "topic = 'files_topic'\n",
    "consumer.subscribe([topic])\n",
    "\n",
    "# Fonction pour recevoir et sauvegarder un fichier\n",
    "def receive_file(output_path):\n",
    "    try:\n",
    "        while True:\n",
    "            msg = consumer.poll(1.0)\n",
    "            if msg is None:\n",
    "                continue\n",
    "            if msg.error():\n",
    "                print(f\"Consumer error: {msg.error()}\")\n",
    "                continue\n",
    "\n",
    "            # Kafka décompresse automatiquement si compression.type est activée au niveau du producer\n",
    "            # Sauvegarder les bytes reçus comme un fichier\n",
    "            with open(output_path, 'wb') as file:\n",
    "                file.write(msg.value())\n",
    "                print(f\"File received and saved to {output_path}\")\n",
    "                break  # Une fois le fichier reçu, on peut arrêter (si ce n'est pas un flux continu)\n",
    "    except KeyboardInterrupt:\n",
    "        print(\"Consumer interrupted.\")\n",
    "    finally:\n",
    "        consumer.close()\n",
    "\n",
    "# Réception du fichier\n",
    "receive_file(\"received/motorbikes_received.mp4\")\n"
   ]
  },
  {
   "cell_type": "markdown",
   "metadata": {},
   "source": [
    "# Consummer :"
   ]
  },
  {
   "cell_type": "code",
   "execution_count": 6,
   "metadata": {},
   "outputs": [
    {
     "name": "stdout",
     "output_type": "stream",
     "text": [
      "Consumer interrupted.\n"
     ]
    }
   ],
   "source": [
    "from confluent_kafka import Consumer\n",
    "\n",
    "# Configuration du Consumer\n",
    "conf = {\n",
    "    'bootstrap.servers': 'localhost:9092',\n",
    "    'group.id': 'file_group',\n",
    "    'auto.offset.reset': 'earliest'\n",
    "}\n",
    "consumer = Consumer(conf)\n",
    "\n",
    "# Souscription au topic\n",
    "topic = 'files_topic'\n",
    "consumer.subscribe([topic])\n",
    "\n",
    "# Fonction pour recevoir et sauvegarder un fichier\n",
    "def receive_file(output_path):\n",
    "    try:\n",
    "        while True:\n",
    "            msg = consumer.poll(1.0)\n",
    "            if msg is None:\n",
    "                continue\n",
    "            if msg.error():\n",
    "                print(f\"Consumer error: {msg.error()}\")\n",
    "                continue\n",
    "\n",
    "            # Sauvegarder les bytes reçus comme un fichier\n",
    "            with open(output_path, 'wb') as file:\n",
    "                file.write(msg.value())\n",
    "                print(f\"File received and saved to {output_path}\")\n",
    "    except KeyboardInterrupt:\n",
    "        print(\"Consumer interrupted.\")\n",
    "    finally:\n",
    "        consumer.close()\n",
    "\n",
    "# Réception de l'image\n",
    "receive_file(\"received/motor_bikes_received.mp4\")"
   ]
  },
  {
   "cell_type": "code",
   "execution_count": null,
   "metadata": {},
   "outputs": [],
   "source": [
    "from ultralytics import YOLO\n",
    "import cv2\n",
    "import cvzone\n",
    "import math\n",
    "import time\n",
    " \n",
    "# cap = cv2.VideoCapture(0)  # For Webcam\n",
    "#cap.set(3, 1280)\n",
    "#cap.set(4, 720)\n",
    "cap = cv2.VideoCapture(\"received/motor_bikes_received.mp4\")  # For Video\n",
    " \n",
    " \n",
    "model = YOLO(\"yolov8n.pt\")\n",
    "\n",
    "classNames = [\"person\", \"bicycle\", \"car\", \"motorbike\", \"aeroplane\", \"bus\", \"train\", \"truck\", \"boat\",\n",
    "              \"traffic light\", \"fire hydrant\", \"stop sign\", \"parking meter\", \"bench\", \"bird\", \"cat\",\n",
    "              \"dog\", \"horse\", \"sheep\", \"cow\", \"elephant\", \"bear\", \"zebra\", \"giraffe\", \"backpack\", \"umbrella\",\n",
    "              \"handbag\", \"tie\", \"suitcase\", \"frisbee\", \"skis\", \"snowboard\", \"sports ball\", \"kite\", \"baseball bat\",\n",
    "              \"baseball glove\", \"skateboard\", \"surfboard\", \"tennis racket\", \"bottle\", \"wine glass\", \"cup\",\n",
    "              \"fork\", \"knife\", \"spoon\", \"bowl\", \"banana\", \"apple\", \"sandwich\", \"orange\", \"broccoli\",\n",
    "              \"carrot\", \"hot dog\", \"pizza\", \"donut\", \"cake\", \"chair\", \"sofa\", \"pottedplant\", \"bed\",\n",
    "              \"diningtable\", \"toilet\", \"tvmonitor\", \"laptop\", \"mouse\", \"remote\", \"keyboard\", \"cell phone\",\n",
    "              \"microwave\", \"oven\", \"toaster\", \"sink\", \"refrigerator\", \"book\", \"clock\", \"vase\", \"scissors\",\n",
    "              \"teddy bear\", \"hair drier\", \"toothbrush\"\n",
    "              ]\n",
    " \n",
    "prev_frame_time = 0\n",
    "new_frame_time = 0\n",
    " \n",
    "while True:\n",
    "    new_frame_time = time.time()\n",
    "    success, img = cap.read()\n",
    "    results = model(img, stream=True)\n",
    "    for r in results:\n",
    "        boxes = r.boxes\n",
    "        for box in boxes:\n",
    "            # Bounding Box\n",
    "            x1, y1, x2, y2 = box.xyxy[0]\n",
    "            x1, y1, x2, y2 = int(x1), int(y1), int(x2), int(y2)\n",
    "            # cv2.rectangle(img,(x1,y1),(x2,y2),(255,0,255),3)\n",
    "            w, h = x2 - x1, y2 - y1\n",
    "            cvzone.cornerRect(img, (x1, y1, w, h))\n",
    "            # Confidence\n",
    "            conf = math.ceil((box.conf[0] * 100)) / 100\n",
    "            # Class Name\n",
    "            cls = int(box.cls[0])\n",
    " \n",
    "            cvzone.putTextRect(img, f'{classNames[cls]} {conf}', (max(0, x1), max(35, y1)), scale=1, thickness=1)\n",
    " \n",
    "    fps = 1 / (new_frame_time - prev_frame_time)\n",
    "    prev_frame_time = new_frame_time\n",
    "    print(fps)\n",
    " \n",
    "    cv2.imshow(\"Image\", img)\n",
    "    cv2.waitKey(1)"
   ]
  }
 ],
 "metadata": {
  "kernelspec": {
   "display_name": "Python 3",
   "language": "python",
   "name": "python3"
  },
  "language_info": {
   "codemirror_mode": {
    "name": "ipython",
    "version": 3
   },
   "file_extension": ".py",
   "mimetype": "text/x-python",
   "name": "python",
   "nbconvert_exporter": "python",
   "pygments_lexer": "ipython3",
   "version": "3.12.7"
  }
 },
 "nbformat": 4,
 "nbformat_minor": 2
}
