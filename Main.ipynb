{
 "cells": [
  {
   "cell_type": "code",
   "execution_count": 2,
   "metadata": {},
   "outputs": [],
   "source": [
    "from ultralytics import YOLO\n",
    "import cv2\n",
    "import cvzone\n",
    "import math\n",
    "import time\n",
    "from confluent_kafka import Producer, Consumer\n",
    "import socket\n",
    "import os\n",
    "\n",
    "HOSTNAME = \"localhost\"\n",
    "os.makedirs(\"recu\", exist_ok=True)"
   ]
  },
  {
   "cell_type": "markdown",
   "metadata": {},
   "source": [
    "Adresse IP publique du serveur Kafka\n",
    "listeners=PLAINTEXT://<votre_ip_publique>:9092\n",
    "\n",
    "Publicité de l'adresse du broker pour les clients externes\n",
    "advertised.listeners=PLAINTEXT://<votre_ip_publique>:9092"
   ]
  },
  {
   "cell_type": "markdown",
   "metadata": {},
   "source": [
    "# Producer :"
   ]
  },
  {
   "cell_type": "code",
   "execution_count": null,
   "metadata": {},
   "outputs": [],
   "source": [
    "# Configuration du Producer avec compression\n",
    "conf = {\n",
    "    'bootstrap.servers': HOSTNAME + \":9092\",\n",
    "    'client.id': socket.gethostname(),\n",
    "    'compression.type': 'gzip',  # Compression type: gzip, snappy, lz4, or zstd\n",
    "    'message.max.bytes': 500000000  # Increase if necessary\n",
    "}\n",
    "producer = Producer(conf)\n",
    "\n",
    "# Fonction pour charger un fichier en bytes\n",
    "def send_file(file_path, topic):\n",
    "    try:\n",
    "        with open(file_path, 'rb') as file:\n",
    "            file_bytes = file.read()  # Lire le fichier en bytes\n",
    "            \n",
    "            # Vérifier si la taille dépasse les limites du message\n",
    "            if len(file_bytes) > conf.get('message.max.bytes', 1048576):  # 1 MB par défaut\n",
    "                raise ValueError(\"File size exceeds Kafka message size limit even with compression.\")\n",
    "            \n",
    "            producer.produce(topic,key=file_path[6:], value=file_bytes)\n",
    "            print(f\"File {file_path} sent successfully to topic {topic}\")\n",
    "    except Exception as e:\n",
    "        print(f\"Failed to send file: {e}\")\n",
    "    finally:\n",
    "        producer.flush()\n",
    "\n",
    "# Envoi d'une image compressée automatiquement par Kafka\n",
    "send_file('envoi/2.png', 'files_topic')"
   ]
  },
  {
   "cell_type": "markdown",
   "metadata": {},
   "source": [
    "# Consummer :"
   ]
  },
  {
   "cell_type": "code",
   "execution_count": null,
   "metadata": {},
   "outputs": [],
   "source": [
    "# Configuration du Consumer\n",
    "conf = {\n",
    "    'bootstrap.servers': HOSTNAME + \":9092\",\n",
    "    'group.id': 'file_group',\n",
    "    'auto.offset.reset': 'earliest'\n",
    "}\n",
    "consumer = Consumer(conf)\n",
    "\n",
    "# Souscription au topic\n",
    "topic = 'files_topic'\n",
    "consumer.subscribe([topic])\n",
    "\n",
    "# vra global\n",
    "output_path = ''\n",
    "\n",
    "# Fonction pour recevoir et sauvegarder un fichier\n",
    "def receive_file():\n",
    "    global output_path\n",
    "    try:\n",
    "        while True:\n",
    "            msg = consumer.poll(1.0)\n",
    "            if msg is None:\n",
    "                continue\n",
    "            if msg.error():\n",
    "                print(f\"Consumer error: {msg.error()}\")\n",
    "                continue\n",
    "            output_path = 'recu/'+msg.key().decode('utf-8')\n",
    "            # Sauvegarder les bytes reçus comme un fichier\n",
    "            with open(output_path, 'wb') as file:\n",
    "                file.write(msg.value())\n",
    "                print(f\"File received and saved to {output_path}\")\n",
    "    except KeyboardInterrupt:\n",
    "        print(\"Consumer interrupted.\")\n",
    "    finally:\n",
    "        consumer.close()\n",
    "\n",
    "# Réception de l'image\n",
    "receive_file()"
   ]
  },
  {
   "cell_type": "markdown",
   "metadata": {},
   "source": [
    "# Dedection"
   ]
  },
  {
   "cell_type": "code",
   "execution_count": null,
   "metadata": {},
   "outputs": [],
   "source": [
    "model = YOLO('yolov8n.pt')\n",
    "\n",
    "\n",
    "if output_path[-4:] in [\".mp4\", \".mkv\", \".avi\", \".mov\", \".wmv\", \".flv\", \".webm\", \n",
    "    \".mpg\", \".mpeg\", \".3gp\", \".ts\", \".ogg\", \".rm\"]:\n",
    "    \n",
    "    # cap = cv2.VideoCapture(0)  # For Webcam\n",
    "    #cap.set(3, 1280)\n",
    "    #cap.set(4, 720)\n",
    "    cap = cv2.VideoCapture(output_path)  # For Video\n",
    "    \n",
    "    classNames = [\"person\", \"bicycle\", \"car\", \"motorbike\", \"aeroplane\", \"bus\", \"train\", \"truck\", \"boat\",\n",
    "                \"traffic light\", \"fire hydrant\", \"stop sign\", \"parking meter\", \"bench\", \"bird\", \"cat\",\n",
    "                \"dog\", \"horse\", \"sheep\", \"cow\", \"elephant\", \"bear\", \"zebra\", \"giraffe\", \"backpack\", \"umbrella\",\n",
    "                \"handbag\", \"tie\", \"suitcase\", \"frisbee\", \"skis\", \"snowboard\", \"sports ball\", \"kite\", \"baseball bat\",\n",
    "                \"baseball glove\", \"skateboard\", \"surfboard\", \"tennis racket\", \"bottle\", \"wine glass\", \"cup\",\n",
    "                \"fork\", \"knife\", \"spoon\", \"bowl\", \"banana\", \"apple\", \"sandwich\", \"orange\", \"broccoli\",\n",
    "                \"carrot\", \"hot dog\", \"pizza\", \"donut\", \"cake\", \"chair\", \"sofa\", \"pottedplant\", \"bed\",\n",
    "                \"diningtable\", \"toilet\", \"tvmonitor\", \"laptop\", \"mouse\", \"remote\", \"keyboard\", \"cell phone\",\n",
    "                \"microwave\", \"oven\", \"toaster\", \"sink\", \"refrigerator\", \"book\", \"clock\", \"vase\", \"scissors\",\n",
    "                \"teddy bear\", \"hair drier\", \"toothbrush\"\n",
    "                ]\n",
    "    \n",
    "    prev_frame_time = 0\n",
    "    new_frame_time = 0\n",
    "    \n",
    "    while True:\n",
    "        new_frame_time = time.time()\n",
    "        success, img = cap.read()\n",
    "        results = model(img, stream=True)\n",
    "        for r in results:\n",
    "            boxes = r.boxes\n",
    "            for box in boxes:\n",
    "                # Bounding Box\n",
    "                x1, y1, x2, y2 = box.xyxy[0]\n",
    "                x1, y1, x2, y2 = int(x1), int(y1), int(x2), int(y2)\n",
    "                # cv2.rectangle(img,(x1,y1),(x2,y2),(255,0,255),3)\n",
    "                w, h = x2 - x1, y2 - y1\n",
    "                cvzone.cornerRect(img, (x1, y1, w, h))\n",
    "                # Confidence\n",
    "                conf = math.ceil((box.conf[0] * 100)) / 100\n",
    "                # Class Name\n",
    "                cls = int(box.cls[0])\n",
    "    \n",
    "                cvzone.putTextRect(img, f'{classNames[cls]} {conf}', (max(0, x1), max(35, y1)), scale=1, thickness=1)\n",
    "    \n",
    "        fps = 1 / (new_frame_time - prev_frame_time)\n",
    "        prev_frame_time = new_frame_time\n",
    "        print(fps)\n",
    "    \n",
    "        cv2.imshow(\"Image\", img)\n",
    "        cv2.waitKey(1)\n",
    "elif output_path[-4:] in [\".jpg\", \".jpeg\", \".png\", \".gif\", \".bmp\", \".tiff\", \".tif\", \n",
    "    \".webp\", \".heif\", \".heic\", \".raw\", \".svg\", \".ico\", \".eps\"]:\n",
    "    results = model(output_path, show=True)\n",
    "    cv2.waitKey(0)"
   ]
  },
  {
   "cell_type": "markdown",
   "metadata": {},
   "source": [
    "# Detection webcam :"
   ]
  },
  {
   "cell_type": "code",
   "execution_count": 3,
   "metadata": {},
   "outputs": [],
   "source": [
    "producer_conf = {\n",
    "    'bootstrap.servers': HOSTNAME + \":9092\",\n",
    "    'client.id': socket.gethostname(),\n",
    "    'compression.type': 'gzip',\n",
    "    'message.max.bytes': 500000000  # Adjust as needed\n",
    "}\n",
    "producer = Producer(producer_conf)\n",
    "\n",
    "# Create directories\n",
    "capture_dir = \"captured_images\"\n",
    "received_dir = \"received_images\"\n",
    "\n",
    "os.makedirs(capture_dir, exist_ok=True)\n",
    "os.makedirs(received_dir, exist_ok=True)\n",
    "\n",
    "# Function to capture images\n",
    "def capture_images(num_images=5):\n",
    "    cap = cv2.VideoCapture(0)\n",
    "    if not cap.isOpened():\n",
    "        print(\"Error: Unable to access webcam.\")\n",
    "        return\n",
    "    for i in range(num_images):\n",
    "        ret, frame = cap.read()\n",
    "        if ret:\n",
    "            filename = os.path.join(capture_dir, f\"image_{i}.jpg\")\n",
    "            cv2.imwrite(filename, frame)\n",
    "            print(f\"Captured and saved: {filename}\")\n",
    "        else:\n",
    "            print(\"Failed to capture an image.\")\n",
    "    cap.release()\n",
    "    cv2.destroyAllWindows()\n",
    "\n",
    "# Function to send a file to Kafka\n",
    "def send_file_to_kafka(file_path, topic='files_topic'):\n",
    "    try:\n",
    "        with open(file_path, 'rb') as file:\n",
    "            file_bytes = file.read()\n",
    "            if len(file_bytes) > producer_conf.get('message.max.bytes', 1048576):\n",
    "                raise ValueError(\"File size exceeds Kafka message size limit.\")\n",
    "            producer.produce(topic, key=file_path.split(\"/\")[-1], value=file_bytes)\n",
    "            print(f\"File {file_path} sent to topic {topic}.\")\n",
    "    except Exception as e:\n",
    "        print(f\"Error sending file to Kafka: {e}\")\n",
    "    finally:\n",
    "        producer.flush()"
   ]
  },
  {
   "cell_type": "code",
   "execution_count": 4,
   "metadata": {},
   "outputs": [
    {
     "name": "stdout",
     "output_type": "stream",
     "text": [
      "Captured and saved: captured_images\\image_0.jpg\n",
      "Captured and saved: captured_images\\image_1.jpg\n",
      "Captured and saved: captured_images\\image_2.jpg\n",
      "Captured and saved: captured_images\\image_3.jpg\n",
      "Captured and saved: captured_images\\image_4.jpg\n",
      "File captured_images\\image_0.jpg sent to topic files_topic.\n",
      "File captured_images\\image_1.jpg sent to topic files_topic.\n",
      "File captured_images\\image_2.jpg sent to topic files_topic.\n",
      "File captured_images\\image_3.jpg sent to topic files_topic.\n",
      "File captured_images\\image_4.jpg sent to topic files_topic.\n"
     ]
    }
   ],
   "source": [
    "# Capture images\n",
    "capture_images(5)\n",
    "\n",
    "# Send captured images\n",
    "for filename in os.listdir(capture_dir):\n",
    "    file_path = os.path.join(capture_dir, filename)\n",
    "    send_file_to_kafka(file_path)"
   ]
  },
  {
   "cell_type": "code",
   "execution_count": 6,
   "metadata": {},
   "outputs": [],
   "source": [
    "# Initialize YOLO model\n",
    "model = YOLO('yolov8n.pt')\n",
    "\n",
    "# Function to process with YOLO\n",
    "def process_with_yolo(file_path):\n",
    "    if file_path.lower().endswith(('.jpg', '.jpeg', '.png')):\n",
    "        # Process single image\n",
    "        results = model(file_path, show=True)\n",
    "        cv2.waitKey(0)\n",
    "    elif file_path.lower().endswith(('.mp4', '.avi', '.mkv')):\n",
    "        # Process video\n",
    "        cap = cv2.VideoCapture(file_path)\n",
    "        prev_frame_time = 0\n",
    "        new_frame_time = 0\n",
    "\n",
    "        while True:\n",
    "            ret, frame = cap.read()\n",
    "            if not ret:\n",
    "                break\n",
    "            new_frame_time = time.time()\n",
    "            results = model(frame, stream=True)\n",
    "            for r in results:\n",
    "                for box in r.boxes:\n",
    "                    x1, y1, x2, y2 = map(int, box.xyxy[0])\n",
    "                    conf = round(box.conf[0], 2)\n",
    "                    cls = int(box.cls[0])\n",
    "                    class_name = model.names[cls]\n",
    "                    cvzone.putTextRect(frame, f'{class_name} {conf}', (x1, y1))\n",
    "                    cvzone.cornerRect(frame, (x1, y1, x2 - x1, y2 - y1))\n",
    "\n",
    "            fps = 1 / (new_frame_time - prev_frame_time)\n",
    "            prev_frame_time = new_frame_time\n",
    "            print(f\"FPS: {fps}\")\n",
    "            cv2.imshow(\"YOLO Prediction\", frame)\n",
    "            if cv2.waitKey(1) & 0xFF == ord('q'):\n",
    "                break\n",
    "        cap.release()\n",
    "        cv2.destroyAllWindows()"
   ]
  },
  {
   "cell_type": "code",
   "execution_count": null,
   "metadata": {},
   "outputs": [
    {
     "name": "stdout",
     "output_type": "stream",
     "text": [
      "File saved: received_images\\image_1.jpg\n"
     ]
    },
    {
     "name": "stderr",
     "output_type": "stream",
     "text": [
      "\n",
      "image 1/1 c:\\Users\\kamal\\Desktop\\Project_2 _kafka\\received_images\\image_1.jpg: 480x640 1 person, 86.9ms\n",
      "Speed: 2.3ms preprocess, 86.9ms inference, 3.0ms postprocess per image at shape (1, 3, 480, 640)\n",
      "\n"
     ]
    },
    {
     "name": "stdout",
     "output_type": "stream",
     "text": [
      "File saved: received_images\\image_2.jpg\n"
     ]
    },
    {
     "name": "stderr",
     "output_type": "stream",
     "text": [
      "image 1/1 c:\\Users\\kamal\\Desktop\\Project_2 _kafka\\received_images\\image_2.jpg: 480x640 1 person, 64.6ms\n",
      "Speed: 1.6ms preprocess, 64.6ms inference, 1.0ms postprocess per image at shape (1, 3, 480, 640)\n",
      "\n"
     ]
    },
    {
     "name": "stdout",
     "output_type": "stream",
     "text": [
      "File saved: received_images\\image_3.jpg\n"
     ]
    },
    {
     "name": "stderr",
     "output_type": "stream",
     "text": [
      "image 1/1 c:\\Users\\kamal\\Desktop\\Project_2 _kafka\\received_images\\image_3.jpg: 480x640 1 person, 63.0ms\n",
      "Speed: 0.9ms preprocess, 63.0ms inference, 1.0ms postprocess per image at shape (1, 3, 480, 640)\n",
      "\n"
     ]
    },
    {
     "name": "stdout",
     "output_type": "stream",
     "text": [
      "File saved: received_images\\image_4.jpg\n"
     ]
    },
    {
     "name": "stderr",
     "output_type": "stream",
     "text": [
      "image 1/1 c:\\Users\\kamal\\Desktop\\Project_2 _kafka\\received_images\\image_4.jpg: 480x640 2 persons, 57.4ms\n",
      "Speed: 1.5ms preprocess, 57.4ms inference, 1.0ms postprocess per image at shape (1, 3, 480, 640)\n",
      "\n"
     ]
    },
    {
     "name": "stdout",
     "output_type": "stream",
     "text": [
      "File saved: received_images\\image_0.jpg\n"
     ]
    },
    {
     "name": "stderr",
     "output_type": "stream",
     "text": [
      "image 1/1 c:\\Users\\kamal\\Desktop\\Project_2 _kafka\\received_images\\image_0.jpg: 480x640 1 person, 66.1ms\n",
      "Speed: 0.5ms preprocess, 66.1ms inference, 1.0ms postprocess per image at shape (1, 3, 480, 640)\n",
      "\n"
     ]
    },
    {
     "name": "stdout",
     "output_type": "stream",
     "text": [
      "File saved: received_images\\image_1.jpg\n"
     ]
    },
    {
     "name": "stderr",
     "output_type": "stream",
     "text": [
      "image 1/1 c:\\Users\\kamal\\Desktop\\Project_2 _kafka\\received_images\\image_1.jpg: 480x640 1 person, 74.8ms\n",
      "Speed: 1.5ms preprocess, 74.8ms inference, 2.0ms postprocess per image at shape (1, 3, 480, 640)\n",
      "\n"
     ]
    },
    {
     "name": "stdout",
     "output_type": "stream",
     "text": [
      "File saved: received_images\\image_2.jpg\n"
     ]
    },
    {
     "name": "stderr",
     "output_type": "stream",
     "text": [
      "image 1/1 c:\\Users\\kamal\\Desktop\\Project_2 _kafka\\received_images\\image_2.jpg: 480x640 1 person, 113.0ms\n",
      "Speed: 1.0ms preprocess, 113.0ms inference, 1.0ms postprocess per image at shape (1, 3, 480, 640)\n",
      "\n"
     ]
    },
    {
     "name": "stdout",
     "output_type": "stream",
     "text": [
      "File saved: received_images\\image_3.jpg\n"
     ]
    },
    {
     "name": "stderr",
     "output_type": "stream",
     "text": [
      "image 1/1 c:\\Users\\kamal\\Desktop\\Project_2 _kafka\\received_images\\image_3.jpg: 480x640 1 person, 61.1ms\n",
      "Speed: 1.0ms preprocess, 61.1ms inference, 1.5ms postprocess per image at shape (1, 3, 480, 640)\n",
      "\n"
     ]
    },
    {
     "name": "stdout",
     "output_type": "stream",
     "text": [
      "File saved: received_images\\image_4.jpg\n"
     ]
    },
    {
     "name": "stderr",
     "output_type": "stream",
     "text": [
      "image 1/1 c:\\Users\\kamal\\Desktop\\Project_2 _kafka\\received_images\\image_4.jpg: 480x640 1 person, 1 dog, 63.3ms\n",
      "Speed: 1.0ms preprocess, 63.3ms inference, 1.0ms postprocess per image at shape (1, 3, 480, 640)\n",
      "\n"
     ]
    },
    {
     "name": "stdout",
     "output_type": "stream",
     "text": [
      "File saved: received_images\\image_0.jpg\n"
     ]
    },
    {
     "name": "stderr",
     "output_type": "stream",
     "text": [
      "image 1/1 c:\\Users\\kamal\\Desktop\\Project_2 _kafka\\received_images\\image_0.jpg: 480x640 1 person, 59.1ms\n",
      "Speed: 2.0ms preprocess, 59.1ms inference, 1.0ms postprocess per image at shape (1, 3, 480, 640)\n",
      "\n"
     ]
    },
    {
     "name": "stdout",
     "output_type": "stream",
     "text": [
      "File saved: received_images\\image_1.jpg\n"
     ]
    },
    {
     "name": "stderr",
     "output_type": "stream",
     "text": [
      "image 1/1 c:\\Users\\kamal\\Desktop\\Project_2 _kafka\\received_images\\image_1.jpg: 480x640 1 person, 62.2ms\n",
      "Speed: 1.0ms preprocess, 62.2ms inference, 1.0ms postprocess per image at shape (1, 3, 480, 640)\n",
      "\n"
     ]
    },
    {
     "name": "stdout",
     "output_type": "stream",
     "text": [
      "File saved: received_images\\image_2.jpg\n"
     ]
    },
    {
     "name": "stderr",
     "output_type": "stream",
     "text": [
      "image 1/1 c:\\Users\\kamal\\Desktop\\Project_2 _kafka\\received_images\\image_2.jpg: 480x640 1 person, 62.7ms\n",
      "Speed: 1.0ms preprocess, 62.7ms inference, 1.0ms postprocess per image at shape (1, 3, 480, 640)\n",
      "\n"
     ]
    },
    {
     "name": "stdout",
     "output_type": "stream",
     "text": [
      "File saved: received_images\\image_3.jpg\n"
     ]
    },
    {
     "name": "stderr",
     "output_type": "stream",
     "text": [
      "image 1/1 c:\\Users\\kamal\\Desktop\\Project_2 _kafka\\received_images\\image_3.jpg: 480x640 1 person, 66.6ms\n",
      "Speed: 1.0ms preprocess, 66.6ms inference, 1.0ms postprocess per image at shape (1, 3, 480, 640)\n",
      "\n"
     ]
    },
    {
     "name": "stdout",
     "output_type": "stream",
     "text": [
      "File saved: received_images\\image_4.jpg\n"
     ]
    },
    {
     "name": "stderr",
     "output_type": "stream",
     "text": [
      "image 1/1 c:\\Users\\kamal\\Desktop\\Project_2 _kafka\\received_images\\image_4.jpg: 480x640 1 person, 67.0ms\n",
      "Speed: 3.0ms preprocess, 67.0ms inference, 0.0ms postprocess per image at shape (1, 3, 480, 640)\n"
     ]
    },
    {
     "name": "stdout",
     "output_type": "stream",
     "text": [
      "Consumer stopped.\n"
     ]
    }
   ],
   "source": [
    "# Kafka Consumer Configuration\n",
    "consumer_conf = {\n",
    "    'bootstrap.servers': HOSTNAME + \":9092\",\n",
    "    'group.id': 'file_group',\n",
    "    'auto.offset.reset': 'earliest'\n",
    "}\n",
    "consumer = Consumer(consumer_conf)\n",
    "\n",
    "# Function to consume files from Kafka\n",
    "def receive_files_from_kafka(topic='files_topic'):\n",
    "    consumer.subscribe([topic])\n",
    "    try:\n",
    "        while True:\n",
    "            msg = consumer.poll(1.0)\n",
    "            if msg is None:\n",
    "                continue\n",
    "            if msg.error():\n",
    "                print(f\"Consumer error: {msg.error()}\")\n",
    "                continue\n",
    "            file_name = msg.key().decode('utf-8').split(\"\\\\\")[-1]\n",
    "            file_path = os.path.join(received_dir, file_name)\n",
    "            with open(file_path, 'wb') as file:\n",
    "                file.write(msg.value())\n",
    "                print(f\"File saved: {file_path}\")\n",
    "            process_with_yolo(file_path)  # Pass the file to YOLO\n",
    "    except KeyboardInterrupt:\n",
    "        print(\"Consumer stopped.\")\n",
    "    finally:\n",
    "        consumer.close()\n",
    "\n",
    "# Start consuming\n",
    "receive_files_from_kafka()\n"
   ]
  }
 ],
 "metadata": {
  "kernelspec": {
   "display_name": "Python 3",
   "language": "python",
   "name": "python3"
  },
  "language_info": {
   "codemirror_mode": {
    "name": "ipython",
    "version": 3
   },
   "file_extension": ".py",
   "mimetype": "text/x-python",
   "name": "python",
   "nbconvert_exporter": "python",
   "pygments_lexer": "ipython3",
   "version": "3.12.7"
  }
 },
 "nbformat": 4,
 "nbformat_minor": 2
}
