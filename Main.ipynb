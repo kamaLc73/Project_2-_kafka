{
 "cells": [
  {
   "cell_type": "markdown",
   "metadata": {},
   "source": [
    "# Producer :"
   ]
  },
  {
   "cell_type": "code",
   "execution_count": null,
   "metadata": {},
   "outputs": [
    {
     "name": "stdout",
     "output_type": "stream",
     "text": [
      "File Images/1.png sent successfully to topic files_topic\n"
     ]
    }
   ],
   "source": [
    "from confluent_kafka import Producer\n",
    "import socket\n",
    "\n",
    "# Configuration du Producer avec compression\n",
    "conf = {\n",
    "    'bootstrap.servers': 'localhost:9092',\n",
    "    'client.id': socket.gethostname(),\n",
    "    'compression.type': 'gzip',  # Compression type: gzip, snappy, lz4, or zstd\n",
    "    'message.max.bytes': 500000000  # Increase if necessary\n",
    "}\n",
    "producer = Producer(conf)\n",
    "\n",
    "# Fonction pour charger un fichier en bytes\n",
    "def send_file(file_path, topic):\n",
    "    try:\n",
    "        with open(file_path, 'rb') as file:\n",
    "            file_bytes = file.read()  # Lire le fichier en bytes\n",
    "            \n",
    "            # Vérifier si la taille dépasse les limites du message\n",
    "            if len(file_bytes) > conf.get('message.max.bytes', 1048576):  # 1 MB par défaut\n",
    "                raise ValueError(\"File size exceeds Kafka message size limit even with compression.\")\n",
    "            \n",
    "            producer.produce(topic,key=file_path[6:], value=file_bytes)\n",
    "            print(f\"File {file_path} sent successfully to topic {topic}\")\n",
    "    except Exception as e:\n",
    "        print(f\"Failed to send file: {e}\")\n",
    "    finally:\n",
    "        producer.flush()\n",
    "\n",
    "# Envoi d'une image compressée automatiquement par Kafka\n",
    "send_file('envoi/bikes.mp4', 'files_topic')"
   ]
  },
  {
   "cell_type": "markdown",
   "metadata": {},
   "source": [
    "# Consummer :"
   ]
  },
  {
   "cell_type": "code",
   "execution_count": 2,
   "metadata": {},
   "outputs": [
    {
     "name": "stdout",
     "output_type": "stream",
     "text": [
      "File received and saved to images_recu/bikes.mp4\n",
      "Consumer interrupted.\n"
     ]
    }
   ],
   "source": [
    "from confluent_kafka import Consumer\n",
    "\n",
    "# Configuration du Consumer\n",
    "conf = {\n",
    "    'bootstrap.servers': 'localhost:9092',\n",
    "    'group.id': 'file_group',\n",
    "    'auto.offset.reset': 'earliest'\n",
    "}\n",
    "consumer = Consumer(conf)\n",
    "\n",
    "# Souscription au topic\n",
    "topic = 'files_topic'\n",
    "consumer.subscribe([topic])\n",
    "\n",
    "# Fonction pour recevoir et sauvegarder un fichier\n",
    "def receive_file():\n",
    "    try:\n",
    "        while True:\n",
    "            msg = consumer.poll(1.0)\n",
    "            if msg is None:\n",
    "                continue\n",
    "            if msg.error():\n",
    "                print(f\"Consumer error: {msg.error()}\")\n",
    "                continue\n",
    "            output_path = 'recu/'+msg.key().decode('utf-8')\n",
    "            # Sauvegarder les bytes reçus comme un fichier\n",
    "            with open(output_path, 'wb') as file:\n",
    "                file.write(msg.value())\n",
    "                print(f\"File received and saved to {output_path}\")\n",
    "    except KeyboardInterrupt:\n",
    "        print(\"Consumer interrupted.\")\n",
    "    finally:\n",
    "        consumer.close()\n",
    "\n",
    "# Réception de l'image\n",
    "receive_file()"
   ]
  },
  {
   "cell_type": "markdown",
   "metadata": {},
   "source": [
    "# Dedection"
   ]
  },
  {
   "cell_type": "code",
   "execution_count": null,
   "metadata": {},
   "outputs": [],
   "source": [
    "from ultralytics import YOLO\n",
    "import cv2\n",
    "import cvzone\n",
    "import math\n",
    "import time\n",
    " \n",
    "# cap = cv2.VideoCapture(0)  # For Webcam\n",
    "#cap.set(3, 1280)\n",
    "#cap.set(4, 720)\n",
    "cap = cv2.VideoCapture(\"images_recu/bikes.mp4\")  # For Video\n",
    " \n",
    " \n",
    "model = YOLO(\"yolov8n.pt\")\n",
    "\n",
    "classNames = [\"person\", \"bicycle\", \"car\", \"motorbike\", \"aeroplane\", \"bus\", \"train\", \"truck\", \"boat\",\n",
    "              \"traffic light\", \"fire hydrant\", \"stop sign\", \"parking meter\", \"bench\", \"bird\", \"cat\",\n",
    "              \"dog\", \"horse\", \"sheep\", \"cow\", \"elephant\", \"bear\", \"zebra\", \"giraffe\", \"backpack\", \"umbrella\",\n",
    "              \"handbag\", \"tie\", \"suitcase\", \"frisbee\", \"skis\", \"snowboard\", \"sports ball\", \"kite\", \"baseball bat\",\n",
    "              \"baseball glove\", \"skateboard\", \"surfboard\", \"tennis racket\", \"bottle\", \"wine glass\", \"cup\",\n",
    "              \"fork\", \"knife\", \"spoon\", \"bowl\", \"banana\", \"apple\", \"sandwich\", \"orange\", \"broccoli\",\n",
    "              \"carrot\", \"hot dog\", \"pizza\", \"donut\", \"cake\", \"chair\", \"sofa\", \"pottedplant\", \"bed\",\n",
    "              \"diningtable\", \"toilet\", \"tvmonitor\", \"laptop\", \"mouse\", \"remote\", \"keyboard\", \"cell phone\",\n",
    "              \"microwave\", \"oven\", \"toaster\", \"sink\", \"refrigerator\", \"book\", \"clock\", \"vase\", \"scissors\",\n",
    "              \"teddy bear\", \"hair drier\", \"toothbrush\"\n",
    "              ]\n",
    " \n",
    "prev_frame_time = 0\n",
    "new_frame_time = 0\n",
    " \n",
    "while True:\n",
    "    new_frame_time = time.time()\n",
    "    success, img = cap.read()\n",
    "    results = model(img, stream=True)\n",
    "    for r in results:\n",
    "        boxes = r.boxes\n",
    "        for box in boxes:\n",
    "            # Bounding Box\n",
    "            x1, y1, x2, y2 = box.xyxy[0]\n",
    "            x1, y1, x2, y2 = int(x1), int(y1), int(x2), int(y2)\n",
    "            # cv2.rectangle(img,(x1,y1),(x2,y2),(255,0,255),3)\n",
    "            w, h = x2 - x1, y2 - y1\n",
    "            cvzone.cornerRect(img, (x1, y1, w, h))\n",
    "            # Confidence\n",
    "            conf = math.ceil((box.conf[0] * 100)) / 100\n",
    "            # Class Name\n",
    "            cls = int(box.cls[0])\n",
    " \n",
    "            cvzone.putTextRect(img, f'{classNames[cls]} {conf}', (max(0, x1), max(35, y1)), scale=1, thickness=1)\n",
    " \n",
    "    fps = 1 / (new_frame_time - prev_frame_time)\n",
    "    prev_frame_time = new_frame_time\n",
    "    print(fps)\n",
    " \n",
    "    cv2.imshow(\"Image\", img)\n",
    "    cv2.waitKey(1)"
   ]
  },
  {
   "cell_type": "code",
   "execution_count": 1,
   "metadata": {},
   "outputs": [
    {
     "name": "stdout",
     "output_type": "stream",
     "text": [
      "Creating new Ultralytics Settings v0.0.6 file  \n",
      "View Ultralytics Settings with 'yolo settings' or at 'C:\\Users\\HP\\AppData\\Roaming\\Ultralytics\\settings.json'\n",
      "Update Settings with 'yolo settings key=value', i.e. 'yolo settings runs_dir=path/to/dir'. For help see https://docs.ultralytics.com/quickstart/#ultralytics-settings.\n",
      "\n",
      "image 1/1 c:\\Users\\HP\\Desktop\\Project_2-_kafka\\images_recu\\1.png: 448x640 5 persons, 9 motorcycles, 123.1ms\n",
      "Speed: 5.0ms preprocess, 123.1ms inference, 3.0ms postprocess per image at shape (1, 3, 448, 640)\n"
     ]
    },
    {
     "data": {
      "text/plain": [
       "-1"
      ]
     },
     "execution_count": 1,
     "metadata": {},
     "output_type": "execute_result"
    }
   ],
   "source": [
    "from ultralytics import YOLO\n",
    "import cv2\n",
    " \n",
    "model = YOLO('yolov8n.pt')\n",
    "results = model(\"images_recu/1.png\", show=True)\n",
    "cv2.waitKey(0)"
   ]
  }
 ],
 "metadata": {
  "kernelspec": {
   "display_name": "Python 3",
   "language": "python",
   "name": "python3"
  },
  "language_info": {
   "codemirror_mode": {
    "name": "ipython",
    "version": 3
   },
   "file_extension": ".py",
   "mimetype": "text/x-python",
   "name": "python",
   "nbconvert_exporter": "python",
   "pygments_lexer": "ipython3",
   "version": "3.12.6"
  }
 },
 "nbformat": 4,
 "nbformat_minor": 2
}
