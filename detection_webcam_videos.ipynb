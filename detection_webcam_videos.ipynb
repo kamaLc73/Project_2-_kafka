{
 "cells": [
  {
   "cell_type": "code",
   "execution_count": 6,
   "metadata": {},
   "outputs": [],
   "source": [
    "import cv2\n",
    "import os\n",
    "import time\n",
    "from confluent_kafka import Producer, Consumer\n",
    "import socket\n",
    "from ultralytics import YOLO\n",
    "import cvzone\n",
    "\n",
    "# Kafka Configuration\n",
    "producer_conf = {\n",
    "    'bootstrap.servers': \"localhost:9092\",  # Replace with your Kafka hostname\n",
    "    'client.id': socket.gethostname(),\n",
    "    'compression.type': 'gzip',\n",
    "    'message.max.bytes': 500000000  # Adjust as needed\n",
    "}\n",
    "producer = Producer(producer_conf)\n",
    "\n",
    "consumer_conf = {\n",
    "    'bootstrap.servers': \"localhost:9092\",  # Replace with your Kafka hostname\n",
    "    'group.id': 'file_group',\n",
    "    'auto.offset.reset': 'earliest'\n",
    "}\n",
    "consumer = Consumer(consumer_conf)\n",
    "\n",
    "# Directories\n",
    "capture_dir = \"captured_videos\"\n",
    "received_dir = \"received_images\"\n",
    "os.makedirs(capture_dir, exist_ok=True)\n",
    "os.makedirs(received_dir, exist_ok=True)\n",
    "\n",
    "# Initialize YOLO model\n",
    "model = YOLO('yolov8n.pt')"
   ]
  },
  {
   "cell_type": "code",
   "execution_count": 7,
   "metadata": {},
   "outputs": [],
   "source": [
    "def process_with_yolo(file_path):\n",
    "    \"\"\"\n",
    "    Processes the file with YOLO for object detection.\n",
    "    \"\"\"\n",
    "    if file_path.lower().endswith(('.jpg', '.jpeg', '.png')):\n",
    "        # Process single image\n",
    "        results = model(file_path, show=True)\n",
    "        cv2.waitKey(0)\n",
    "    elif file_path.lower().endswith(('.mp4', '.avi', '.mkv')):  # Process video\n",
    "        cap = cv2.VideoCapture(file_path)\n",
    "        prev_frame_time = 0\n",
    "        new_frame_time = 0\n",
    "\n",
    "        while True:\n",
    "            ret, frame = cap.read()\n",
    "            if not ret:\n",
    "                break\n",
    "            new_frame_time = time.time()\n",
    "            results = model(frame, stream=True)\n",
    "            for r in results:\n",
    "                for box in r.boxes:\n",
    "                    x1, y1, x2, y2 = map(int, box.xyxy[0])\n",
    "                    conf = round(box.conf[0].item(), 2)  # Convert Tensor to scalar and round\n",
    "                    cls = int(box.cls[0].item())  # Convert Tensor to scalar\n",
    "                    class_name = model.names[cls]\n",
    "                    cvzone.putTextRect(frame, f'{class_name} {conf}', (x1, y1))\n",
    "                    cvzone.cornerRect(frame, (x1, y1, x2 - x1, y2 - y1))\n",
    "\n",
    "            fps = 1 / (new_frame_time - prev_frame_time)\n",
    "            prev_frame_time = new_frame_time\n",
    "            print(f\"FPS: {fps}\")\n",
    "            cv2.imshow(\"YOLO Prediction\", frame)\n",
    "            if cv2.waitKey(1) & 0xFF == ord('q'):\n",
    "                break\n",
    "        cap.release()\n",
    "        cv2.destroyAllWindows()\n"
   ]
  },
  {
   "cell_type": "code",
   "execution_count": 8,
   "metadata": {},
   "outputs": [],
   "source": [
    "def capture_and_send_video(duration=120, topic='files_topic'):\n",
    "    \"\"\"\n",
    "    Captures video from the webcam for a specified duration and sends it to Kafka.\n",
    "    \"\"\"\n",
    "    cap = cv2.VideoCapture(0)\n",
    "    if not cap.isOpened():\n",
    "        print(\"Error: Unable to access webcam.\")\n",
    "        return\n",
    "\n",
    "    # Set video frame size\n",
    "    width = int(cap.get(cv2.CAP_PROP_FRAME_WIDTH))\n",
    "    height = int(cap.get(cv2.CAP_PROP_FRAME_HEIGHT))\n",
    "\n",
    "    # Define codec and create VideoWriter object\n",
    "    video_filename = os.path.join(capture_dir, f\"webcam_video_{int(time.time())}.mp4\")\n",
    "    fourcc = cv2.VideoWriter_fourcc(*'mp4v')  # Codec for .mp4\n",
    "    out = cv2.VideoWriter(video_filename, fourcc, 20.0, (width, height))\n",
    "\n",
    "    start_time = time.time()\n",
    "\n",
    "    try:\n",
    "        while time.time() - start_time < duration:\n",
    "            ret, frame = cap.read()\n",
    "            if ret:\n",
    "                # Write frame to video file\n",
    "                out.write(frame)\n",
    "                print(f\"Recording video...\")\n",
    "\n",
    "            # Optional: Display the video in real-time\n",
    "            cv2.imshow(\"Recording\", frame)\n",
    "\n",
    "            if cv2.waitKey(1) & 0xFF == ord('q'):\n",
    "                break\n",
    "\n",
    "            time.sleep(0.5)  # Adjust capture frequency\n",
    "    finally:\n",
    "        cap.release()\n",
    "        out.release()\n",
    "        cv2.destroyAllWindows()\n",
    "        print(\"Finished recording video.\")\n",
    "\n",
    "    # Send video to Kafka\n",
    "    with open(video_filename, 'rb') as file:\n",
    "        file_bytes = file.read()\n",
    "        producer.produce(topic, key=os.path.basename(video_filename), value=file_bytes)\n",
    "        print(f\"Video {video_filename} sent to topic {topic}.\")\n",
    "        producer.flush()"
   ]
  },
  {
   "cell_type": "code",
   "execution_count": 9,
   "metadata": {},
   "outputs": [],
   "source": [
    "def receive_files_from_kafka(topic='files_topic'):\n",
    "    \"\"\"\n",
    "    Consumes files from Kafka and processes them with YOLO.\n",
    "    \"\"\"\n",
    "    consumer.subscribe([topic])\n",
    "    try:\n",
    "        while True:\n",
    "            msg = consumer.poll(1.0)\n",
    "            if msg is None:\n",
    "                continue\n",
    "            if msg.error():\n",
    "                print(f\"Consumer error: {msg.error()}\")\n",
    "                continue\n",
    "            file_name = msg.key().decode('utf-8').split(\"\\\\\")[-1]\n",
    "            file_path = os.path.join(received_dir, file_name)\n",
    "            with open(file_path, 'wb') as file:\n",
    "                file.write(msg.value())\n",
    "                print(f\"File saved: {file_path}\")\n",
    "            process_with_yolo(file_path)\n",
    "    except KeyboardInterrupt:\n",
    "        print(\"Consumer stopped.\")\n",
    "    finally:\n",
    "        consumer.close()"
   ]
  },
  {
   "cell_type": "code",
   "execution_count": 10,
   "metadata": {},
   "outputs": [
    {
     "name": "stdout",
     "output_type": "stream",
     "text": [
      "Recording video...\n",
      "Recording video...\n",
      "Recording video...\n",
      "Recording video...\n",
      "Recording video...\n",
      "Recording video...\n",
      "Recording video...\n",
      "Recording video...\n",
      "Recording video...\n",
      "Recording video...\n",
      "Recording video...\n",
      "Recording video...\n",
      "Recording video...\n",
      "Recording video...\n",
      "Recording video...\n",
      "Recording video...\n",
      "Recording video...\n",
      "Recording video...\n",
      "Recording video...\n",
      "Recording video...\n",
      "Recording video...\n",
      "Recording video...\n",
      "Recording video...\n",
      "Finished recording video.\n",
      "Video captured_videos\\webcam_video_1734748019.mp4 sent to topic files_topic.\n",
      "File saved: received_images\\webcam_video_1734748019.mp4\n"
     ]
    },
    {
     "name": "stderr",
     "output_type": "stream",
     "text": [
      "\n",
      "0: 480x640 1 person, 72.2ms\n",
      "Speed: 1.0ms preprocess, 72.2ms inference, 0.0ms postprocess per image at shape (1, 3, 480, 640)\n",
      "\n",
      "0: 480x640 1 person, 62.7ms\n",
      "Speed: 2.1ms preprocess, 62.7ms inference, 1.0ms postprocess per image at shape (1, 3, 480, 640)\n",
      "\n",
      "0: 480x640 1 person, 61.3ms\n",
      "Speed: 1.0ms preprocess, 61.3ms inference, 2.5ms postprocess per image at shape (1, 3, 480, 640)\n",
      "\n"
     ]
    },
    {
     "name": "stdout",
     "output_type": "stream",
     "text": [
      "FPS: 5.764525919977374e-10\n",
      "FPS: 0.5097742182326969\n",
      "FPS: 13.55848572324462\n"
     ]
    },
    {
     "name": "stderr",
     "output_type": "stream",
     "text": [
      "0: 480x640 1 person, 59.1ms\n",
      "Speed: 1.0ms preprocess, 59.1ms inference, 1.0ms postprocess per image at shape (1, 3, 480, 640)\n",
      "\n",
      "0: 480x640 3 persons, 55.7ms\n",
      "Speed: 1.0ms preprocess, 55.7ms inference, 0.0ms postprocess per image at shape (1, 3, 480, 640)\n",
      "\n",
      "0: 480x640 1 person, 54.2ms\n",
      "Speed: 1.0ms preprocess, 54.2ms inference, 2.0ms postprocess per image at shape (1, 3, 480, 640)\n",
      "\n"
     ]
    },
    {
     "name": "stdout",
     "output_type": "stream",
     "text": [
      "FPS: 11.720876682623118\n",
      "FPS: 12.879988945016812\n",
      "FPS: 12.954858955470513\n"
     ]
    },
    {
     "name": "stderr",
     "output_type": "stream",
     "text": [
      "0: 480x640 3 persons, 51.9ms\n",
      "Speed: 1.0ms preprocess, 51.9ms inference, 2.0ms postprocess per image at shape (1, 3, 480, 640)\n",
      "\n",
      "0: 480x640 1 person, 78.0ms\n",
      "Speed: 1.5ms preprocess, 78.0ms inference, 1.0ms postprocess per image at shape (1, 3, 480, 640)\n",
      "\n",
      "0: 480x640 1 person, 56.9ms\n",
      "Speed: 1.0ms preprocess, 56.9ms inference, 1.0ms postprocess per image at shape (1, 3, 480, 640)\n",
      "\n"
     ]
    },
    {
     "name": "stdout",
     "output_type": "stream",
     "text": [
      "FPS: 12.754575836179136\n",
      "FPS: 12.894441711756025\n",
      "FPS: 10.690101286083486\n"
     ]
    },
    {
     "name": "stderr",
     "output_type": "stream",
     "text": [
      "0: 480x640 1 person, 1 bird, 57.8ms\n",
      "Speed: 1.0ms preprocess, 57.8ms inference, 1.0ms postprocess per image at shape (1, 3, 480, 640)\n",
      "\n",
      "0: 480x640 1 person, 58.1ms\n",
      "Speed: 1.0ms preprocess, 58.1ms inference, 1.0ms postprocess per image at shape (1, 3, 480, 640)\n",
      "\n",
      "0: 480x640 1 person, 56.2ms\n",
      "Speed: 1.0ms preprocess, 56.2ms inference, 1.0ms postprocess per image at shape (1, 3, 480, 640)\n",
      "\n"
     ]
    },
    {
     "name": "stdout",
     "output_type": "stream",
     "text": [
      "FPS: 13.012009021502074\n",
      "FPS: 12.840990221471127\n",
      "FPS: 12.767815504130823\n"
     ]
    },
    {
     "name": "stderr",
     "output_type": "stream",
     "text": [
      "0: 480x640 1 person, 1 bird, 57.4ms\n",
      "Speed: 1.0ms preprocess, 57.4ms inference, 1.5ms postprocess per image at shape (1, 3, 480, 640)\n",
      "\n",
      "0: 480x640 1 person, 55.2ms\n",
      "Speed: 1.5ms preprocess, 55.2ms inference, 1.0ms postprocess per image at shape (1, 3, 480, 640)\n",
      "\n",
      "0: 480x640 1 person, 56.4ms\n",
      "Speed: 1.5ms preprocess, 56.4ms inference, 1.0ms postprocess per image at shape (1, 3, 480, 640)\n",
      "\n"
     ]
    },
    {
     "name": "stdout",
     "output_type": "stream",
     "text": [
      "FPS: 12.922449356851267\n",
      "FPS: 12.970122022870784\n",
      "FPS: 12.696776693386289\n"
     ]
    },
    {
     "name": "stderr",
     "output_type": "stream",
     "text": [
      "0: 480x640 1 person, 57.2ms\n",
      "Speed: 1.0ms preprocess, 57.2ms inference, 2.0ms postprocess per image at shape (1, 3, 480, 640)\n",
      "\n",
      "0: 480x640 1 person, 63.7ms\n",
      "Speed: 2.0ms preprocess, 63.7ms inference, 1.0ms postprocess per image at shape (1, 3, 480, 640)\n",
      "\n",
      "0: 480x640 1 person, 1 bottle, 56.2ms\n",
      "Speed: 2.0ms preprocess, 56.2ms inference, 1.5ms postprocess per image at shape (1, 3, 480, 640)\n",
      "\n"
     ]
    },
    {
     "name": "stdout",
     "output_type": "stream",
     "text": [
      "FPS: 12.816583958735668\n",
      "FPS: 12.389096967047509\n",
      "FPS: 13.20728646776352\n"
     ]
    },
    {
     "name": "stderr",
     "output_type": "stream",
     "text": [
      "0: 480x640 1 person, 1 bottle, 55.7ms\n",
      "Speed: 1.1ms preprocess, 55.7ms inference, 1.5ms postprocess per image at shape (1, 3, 480, 640)\n",
      "\n",
      "0: 480x640 1 person, 1 bottle, 56.2ms\n",
      "Speed: 1.0ms preprocess, 56.2ms inference, 1.0ms postprocess per image at shape (1, 3, 480, 640)\n",
      "\n",
      "0: 480x640 1 person, 62.9ms\n",
      "Speed: 2.0ms preprocess, 62.9ms inference, 1.0ms postprocess per image at shape (1, 3, 480, 640)\n",
      "\n"
     ]
    },
    {
     "name": "stdout",
     "output_type": "stream",
     "text": [
      "FPS: 12.62876705317006\n",
      "FPS: 12.8327790407015\n",
      "FPS: 12.521319628746198\n"
     ]
    },
    {
     "name": "stderr",
     "output_type": "stream",
     "text": [
      "0: 480x640 1 person, 58.6ms\n",
      "Speed: 1.0ms preprocess, 58.6ms inference, 0.5ms postprocess per image at shape (1, 3, 480, 640)\n",
      "\n",
      "0: 480x640 1 person, 56.7ms\n",
      "Speed: 1.0ms preprocess, 56.7ms inference, 1.0ms postprocess per image at shape (1, 3, 480, 640)\n"
     ]
    },
    {
     "name": "stdout",
     "output_type": "stream",
     "text": [
      "FPS: 12.897653436818686\n",
      "FPS: 13.20445909401435\n",
      "Consumer stopped.\n"
     ]
    }
   ],
   "source": [
    "# Capture and send video for 2 minutes\n",
    "capture_and_send_video(duration=12)\n",
    "\n",
    "# Start consuming files from Kafka\n",
    "receive_files_from_kafka()"
   ]
  }
 ],
 "metadata": {
  "kernelspec": {
   "display_name": "Python 3",
   "language": "python",
   "name": "python3"
  },
  "language_info": {
   "codemirror_mode": {
    "name": "ipython",
    "version": 3
   },
   "file_extension": ".py",
   "mimetype": "text/x-python",
   "name": "python",
   "nbconvert_exporter": "python",
   "pygments_lexer": "ipython3",
   "version": "3.12.7"
  }
 },
 "nbformat": 4,
 "nbformat_minor": 2
}
